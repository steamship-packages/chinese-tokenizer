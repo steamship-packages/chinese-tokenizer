{
 "cells": [
  {
   "cell_type": "code",
   "execution_count": null,
   "id": "d4b8e02e",
   "metadata": {},
   "outputs": [],
   "source": [
    "%pip install steamship==2.2.0b0"
   ]
  },
  {
   "cell_type": "markdown",
   "id": "2ca1d0c8",
   "metadata": {},
   "source": [
    "# Demo: Chinese Tokenizer\n",
    "## Tokenize and translate Chinese\n",
    "\n",
    "\n",
    "This notebook demonstrates how to create and use the `chinese-tokenizer` package.\n",
    "\n",
    "Instances of the package will be created in such a way that each instance will have its own workspace where data is stored. Workspaces can be used to create personal data vaults for clients as they are isolated from each other."
   ]
  },
  {
   "cell_type": "code",
   "execution_count": null,
   "id": "aef22a77",
   "metadata": {},
   "outputs": [],
   "source": [
    "from steamship import Steamship"
   ]
  },
  {
   "cell_type": "code",
   "execution_count": null,
   "id": "d9d097d4",
   "metadata": {},
   "outputs": [],
   "source": [
    "instance = Steamship.use(\"chinese-tokenizer\", \"chinese-tokenizer-002\", profile=\"staging\")"
   ]
  },
  {
   "cell_type": "code",
   "execution_count": null,
   "id": "f0a8016a",
   "metadata": {},
   "outputs": [],
   "source": [
    "text = \"美国中期选举很重要。选民投票选举的范围包括众议院的所有席位、参议院的三分之一席位，以及数以千计的州的立法机构和行政领导职位。\""
   ]
  },
  {
   "cell_type": "code",
   "execution_count": null,
   "id": "5f1b2d7d",
   "metadata": {
    "pycharm": {
     "name": "#%%\n"
    }
   },
   "outputs": [],
   "source": [
    "response = instance.invoke(\"tokenize_string\", content=text)"
   ]
  },
  {
   "cell_type": "code",
   "execution_count": null,
   "id": "20703c6a",
   "metadata": {
    "pycharm": {
     "name": "#%%\n"
    }
   },
   "outputs": [],
   "source": [
    "response"
   ]
  },
  {
   "cell_type": "code",
   "execution_count": null,
   "id": "e6acf704",
   "metadata": {
    "pycharm": {
     "name": "#%%\n"
    }
   },
   "outputs": [],
   "source": []
  }
 ],
 "metadata": {
  "kernelspec": {
   "display_name": "Python 3 (ipykernel)",
   "language": "python",
   "name": "python3"
  },
  "language_info": {
   "codemirror_mode": {
    "name": "ipython",
    "version": 3
   },
   "file_extension": ".py",
   "mimetype": "text/x-python",
   "name": "python",
   "nbconvert_exporter": "python",
   "pygments_lexer": "ipython3",
   "version": "3.9.6"
  }
 },
 "nbformat": 4,
 "nbformat_minor": 5
}
